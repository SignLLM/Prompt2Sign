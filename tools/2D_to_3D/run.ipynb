{
 "cells": [
  {
   "cell_type": "code",
   "execution_count": null,
   "metadata": {},
   "outputs": [],
   "source": [
    "import os\n",
    "from os.path import exists, join, basename, splitext\n",
    "os.chdir('/root')\n",
    "\n",
    "# Install Prompt2Sign\n",
    "# Firstly, obtain our tool, which comes with default data.\n",
    "!git clone https://github.com/SignLLM/Prompt2Sign.git"
   ]
  },
  {
   "cell_type": "code",
   "execution_count": null,
   "metadata": {},
   "outputs": [],
   "source": [
    "os.chdir('/root/Prompt2Sign/tools/2D_to_3D')\n",
    "\n",
    "# Install Environment\n",
    "# If you already have this environment, skip this code\n",
    "!conda create --name tf15\n",
    "!conda activate tf15\n",
    "!conda env create -f environment.yml\n",
    "!conda activate tf15"
   ]
  },
  {
   "cell_type": "code",
   "execution_count": null,
   "metadata": {},
   "outputs": [],
   "source": [
    "os.chdir('/root/Prompt2Sign/tools/2D_to_3D')\n",
    "\n",
    "!conda activate tf15\n",
    "# Select the subset you want to work with, such as the dev set you want to work with How2Sign.\n",
    "data_mode='dev'\n",
    "!python pipeline_demo_01_json2h5.py --data_subset $data_mode"
   ]
  },
  {
   "cell_type": "code",
   "execution_count": null,
   "metadata": {},
   "outputs": [],
   "source": [
    "# Select the subset you want to work with, such as the dev set you want to work with How2Sign.\n",
    "data_mode='dev'\n",
    "!python pipeline_demo_02_h5totxt.py --data_subset $data_mode"
   ]
  },
  {
   "cell_type": "code",
   "execution_count": null,
   "metadata": {},
   "outputs": [],
   "source": [
    "# Select the subset you want to work with, such as the dev set you want to work with How2Sign.\n",
    "data_mode='dev'\n",
    "!python pipeline_demo_03_txt2skels.py --data_subset $data_mode"
   ]
  }
 ],
 "metadata": {
  "language_info": {
   "name": "python"
  }
 },
 "nbformat": 4,
 "nbformat_minor": 2
}
