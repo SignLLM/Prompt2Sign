{
 "cells": [
  {
   "cell_type": "markdown",
   "metadata": {},
   "source": [
    "## Background\n",
    "\n",
    "As mentioned in the article, we use [Progressive Transformers SLP](https://github.com/BenSaunders27/ProgressiveTransformersSLP) as our basic model and [SignLanguageProcessing](https://github.com/gopeith/SignLanguageProcessing/tree/master/wacv2020) as our basic development tool for our new dataset. On the basis of these two works, we make innovative improvements, which are our contributions.\n",
    "\n",
    "## Data Preparation\n",
    "\n",
    "Firstly, place the JSON file output by OpenPose, which is approximately 24 frames per second, in a similar location in the repository. The 'video' folder next to it is for reference only.\n",
    "\n",
    "The input_data folder should have a 'dev.files' file for storing video names of dev subset and dev.text file for storing video dialogue text of dev subset. These two files can store more than five video information, and any excess video information will not be recorded in the final data. The tool will search for corresponding information in these two files based on the existing JSON folder names, and place the deleted/streamlined 'dev.files' and 'dev.text' files in the final folder. The generated pose and data will also be placed in this final folder.\n",
    "\n",
    "This jupyter notebook did not undergo comprehensive testing. If there are areas for optimization, you can submit a PR on GitHub.\n"
   ]
  },
  {
   "cell_type": "code",
   "execution_count": null,
   "metadata": {},
   "outputs": [],
   "source": [
    "import os\n",
    "from os.path import exists, join, basename, splitext\n",
    "os.chdir('/root')\n",
    "\n",
    "# Install Prompt2Sign\n",
    "# Firstly, obtain our tool, which comes with default data.\n",
    "!git clone https://github.com/SignLLM/Prompt2Sign.git"
   ]
  },
  {
   "cell_type": "code",
   "execution_count": null,
   "metadata": {},
   "outputs": [],
   "source": [
    "import os\n",
    "os.chdir('/root/Prompt2Sign/tools/2D_to_3D')\n",
    "\n",
    "# Install Environment\n",
    "# If you already have this environment, skip this code\n",
    "!conda env create -f environment.yml -n tf15\n",
    "!conda activate tf15"
   ]
  },
  {
   "cell_type": "markdown",
   "metadata": {},
   "source": [
    "## \n",
    "Start by putting the json folder you extracted with openpose into xx"
   ]
  },
  {
   "cell_type": "code",
   "execution_count": 2,
   "metadata": {},
   "outputs": [
    {
     "ename": "FileNotFoundError",
     "evalue": "[WinError 3] 系统找不到指定的路径。: '/root/Prompt2Sign/tools/2D_to_3D'",
     "output_type": "error",
     "traceback": [
      "\u001b[1;31m---------------------------------------------------------------------------\u001b[0m",
      "\u001b[1;31mFileNotFoundError\u001b[0m                         Traceback (most recent call last)",
      "\u001b[1;32m<ipython-input-2-e6750d04ad90>\u001b[0m in \u001b[0;36m<module>\u001b[1;34m\u001b[0m\n\u001b[0;32m      1\u001b[0m \u001b[1;32mimport\u001b[0m \u001b[0mos\u001b[0m\u001b[1;33m\u001b[0m\u001b[1;33m\u001b[0m\u001b[0m\n\u001b[1;32m----> 2\u001b[1;33m \u001b[0mos\u001b[0m\u001b[1;33m.\u001b[0m\u001b[0mchdir\u001b[0m\u001b[1;33m(\u001b[0m\u001b[1;34m'/root/Prompt2Sign/tools/2D_to_3D'\u001b[0m\u001b[1;33m)\u001b[0m\u001b[1;33m\u001b[0m\u001b[1;33m\u001b[0m\u001b[0m\n\u001b[0m\u001b[0;32m      3\u001b[0m \u001b[1;33m\u001b[0m\u001b[0m\n\u001b[0;32m      4\u001b[0m \u001b[0mget_ipython\u001b[0m\u001b[1;33m(\u001b[0m\u001b[1;33m)\u001b[0m\u001b[1;33m.\u001b[0m\u001b[0msystem\u001b[0m\u001b[1;33m(\u001b[0m\u001b[1;34m'conda activate tf15'\u001b[0m\u001b[1;33m)\u001b[0m\u001b[1;33m\u001b[0m\u001b[1;33m\u001b[0m\u001b[0m\n\u001b[0;32m      5\u001b[0m \u001b[1;31m# Select the subset you want to work with, such as the dev set you want to work with How2Sign.\u001b[0m\u001b[1;33m\u001b[0m\u001b[1;33m\u001b[0m\u001b[1;33m\u001b[0m\u001b[0m\n",
      "\u001b[1;31mFileNotFoundError\u001b[0m: [WinError 3] 系统找不到指定的路径。: '/root/Prompt2Sign/tools/2D_to_3D'"
     ]
    }
   ],
   "source": [
    "import os\n",
    "os.chdir('/root/Prompt2Sign/tools/2D_to_3D')\n",
    "\n",
    "!conda activate tf15\n",
    "# Select the subset you want to work with, such as the dev set you want to work with How2Sign.\n",
    "data_mode='dev'\n",
    "!python pipeline_demo_01_json2h5.py --data_subset $data_mode"
   ]
  },
  {
   "cell_type": "code",
   "execution_count": null,
   "metadata": {},
   "outputs": [],
   "source": [
    "# Select the subset you want to work with, such as the dev set you want to work with How2Sign.\n",
    "data_mode='dev'\n",
    "!python pipeline_demo_02_h5totxt.py --data_subset $data_mode"
   ]
  },
  {
   "cell_type": "code",
   "execution_count": null,
   "metadata": {},
   "outputs": [],
   "source": [
    "# Select the subset you want to work with, such as the dev set you want to work with How2Sign.\n",
    "data_mode='dev'\n",
    "!python pipeline_demo_03_txt2skels.py --data_subset $data_mode"
   ]
  }
 ],
 "metadata": {
  "kernelspec": {
   "display_name": "tf15",
   "language": "python",
   "name": "python3"
  },
  "language_info": {
   "codemirror_mode": {
    "name": "ipython",
    "version": 3
   },
   "file_extension": ".py",
   "mimetype": "text/x-python",
   "name": "python",
   "nbconvert_exporter": "python",
   "pygments_lexer": "ipython3",
   "version": "3.6.15"
  }
 },
 "nbformat": 4,
 "nbformat_minor": 2
}
